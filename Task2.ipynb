{
 "cells": [
  {
   "cell_type": "code",
   "execution_count": 22,
   "id": "769d3a8f-62d0-4d8f-a972-b2961b062dba",
   "metadata": {},
   "outputs": [
    {
     "name": "stdout",
     "output_type": "stream",
     "text": [
      "Requirement already satisfied: numpy==1.26.4 in c:\\users\\kiruthika anbarasan\\anaconda3\\lib\\site-packages (1.26.4)Note: you may need to restart the kernel to use updated packages.\n",
      "\n"
     ]
    }
   ],
   "source": [
    "pip install numpy==1.26.4\n"
   ]
  },
  {
   "cell_type": "code",
   "execution_count": 24,
   "id": "b2df9556-1b62-4264-b8e1-253dc818b3a6",
   "metadata": {},
   "outputs": [
    {
     "name": "stdout",
     "output_type": "stream",
     "text": [
      "Requirement already satisfied: gradio in c:\\users\\kiruthika anbarasan\\anaconda3\\lib\\site-packages (5.39.0)\n",
      "Requirement already satisfied: aiofiles<25.0,>=22.0 in c:\\users\\kiruthika anbarasan\\anaconda3\\lib\\site-packages (from gradio) (24.1.0)\n",
      "Requirement already satisfied: anyio<5.0,>=3.0 in c:\\users\\kiruthika anbarasan\\anaconda3\\lib\\site-packages (from gradio) (4.2.0)\n",
      "Requirement already satisfied: brotli>=1.1.0 in c:\\users\\kiruthika anbarasan\\anaconda3\\lib\\site-packages (from gradio) (1.1.0)\n",
      "Requirement already satisfied: fastapi<1.0,>=0.115.2 in c:\\users\\kiruthika anbarasan\\anaconda3\\lib\\site-packages (from gradio) (0.116.1)\n",
      "Requirement already satisfied: ffmpy in c:\\users\\kiruthika anbarasan\\anaconda3\\lib\\site-packages (from gradio) (0.6.1)\n",
      "Requirement already satisfied: gradio-client==1.11.0 in c:\\users\\kiruthika anbarasan\\anaconda3\\lib\\site-packages (from gradio) (1.11.0)\n",
      "Requirement already satisfied: groovy~=0.1 in c:\\users\\kiruthika anbarasan\\anaconda3\\lib\\site-packages (from gradio) (0.1.2)\n",
      "Requirement already satisfied: httpx<1.0,>=0.24.1 in c:\\users\\kiruthika anbarasan\\anaconda3\\lib\\site-packages (from gradio) (0.27.0)\n",
      "Requirement already satisfied: huggingface-hub<1.0,>=0.33.5 in c:\\users\\kiruthika anbarasan\\anaconda3\\lib\\site-packages (from gradio) (0.34.3)\n",
      "Requirement already satisfied: jinja2<4.0 in c:\\users\\kiruthika anbarasan\\anaconda3\\lib\\site-packages (from gradio) (3.1.4)\n",
      "Requirement already satisfied: markupsafe<4.0,>=2.0 in c:\\users\\kiruthika anbarasan\\anaconda3\\lib\\site-packages (from gradio) (2.1.3)\n",
      "Requirement already satisfied: numpy<3.0,>=1.0 in c:\\users\\kiruthika anbarasan\\anaconda3\\lib\\site-packages (from gradio) (1.26.4)\n",
      "Requirement already satisfied: orjson~=3.0 in c:\\users\\kiruthika anbarasan\\anaconda3\\lib\\site-packages (from gradio) (3.11.1)\n",
      "Requirement already satisfied: packaging in c:\\users\\kiruthika anbarasan\\anaconda3\\lib\\site-packages (from gradio) (24.1)\n",
      "Requirement already satisfied: pandas<3.0,>=1.0 in c:\\users\\kiruthika anbarasan\\anaconda3\\lib\\site-packages (from gradio) (2.2.2)\n",
      "Requirement already satisfied: pillow<12.0,>=8.0 in c:\\users\\kiruthika anbarasan\\anaconda3\\lib\\site-packages (from gradio) (10.4.0)\n",
      "Requirement already satisfied: pydantic<2.12,>=2.0 in c:\\users\\kiruthika anbarasan\\anaconda3\\lib\\site-packages (from gradio) (2.8.2)\n",
      "Requirement already satisfied: pydub in c:\\users\\kiruthika anbarasan\\anaconda3\\lib\\site-packages (from gradio) (0.25.1)\n",
      "Requirement already satisfied: python-multipart>=0.0.18 in c:\\users\\kiruthika anbarasan\\anaconda3\\lib\\site-packages (from gradio) (0.0.20)\n",
      "Requirement already satisfied: pyyaml<7.0,>=5.0 in c:\\users\\kiruthika anbarasan\\anaconda3\\lib\\site-packages (from gradio) (6.0.1)\n",
      "Requirement already satisfied: ruff>=0.9.3 in c:\\users\\kiruthika anbarasan\\anaconda3\\lib\\site-packages (from gradio) (0.12.7)\n",
      "Requirement already satisfied: safehttpx<0.2.0,>=0.1.6 in c:\\users\\kiruthika anbarasan\\anaconda3\\lib\\site-packages (from gradio) (0.1.6)\n",
      "Requirement already satisfied: semantic-version~=2.0 in c:\\users\\kiruthika anbarasan\\anaconda3\\lib\\site-packages (from gradio) (2.10.0)\n",
      "Requirement already satisfied: starlette<1.0,>=0.40.0 in c:\\users\\kiruthika anbarasan\\anaconda3\\lib\\site-packages (from gradio) (0.47.2)\n",
      "Requirement already satisfied: tomlkit<0.14.0,>=0.12.0 in c:\\users\\kiruthika anbarasan\\anaconda3\\lib\\site-packages (from gradio) (0.13.3)\n",
      "Requirement already satisfied: typer<1.0,>=0.12 in c:\\users\\kiruthika anbarasan\\anaconda3\\lib\\site-packages (from gradio) (0.16.0)\n",
      "Requirement already satisfied: typing-extensions~=4.0 in c:\\users\\kiruthika anbarasan\\anaconda3\\lib\\site-packages (from gradio) (4.11.0)\n",
      "Requirement already satisfied: uvicorn>=0.14.0 in c:\\users\\kiruthika anbarasan\\anaconda3\\lib\\site-packages (from gradio) (0.35.0)\n",
      "Requirement already satisfied: fsspec in c:\\users\\kiruthika anbarasan\\anaconda3\\lib\\site-packages (from gradio-client==1.11.0->gradio) (2024.6.1)\n",
      "Requirement already satisfied: websockets<16.0,>=10.0 in c:\\users\\kiruthika anbarasan\\anaconda3\\lib\\site-packages (from gradio-client==1.11.0->gradio) (15.0.1)\n",
      "Requirement already satisfied: idna>=2.8 in c:\\users\\kiruthika anbarasan\\anaconda3\\lib\\site-packages (from anyio<5.0,>=3.0->gradio) (3.7)\n",
      "Requirement already satisfied: sniffio>=1.1 in c:\\users\\kiruthika anbarasan\\anaconda3\\lib\\site-packages (from anyio<5.0,>=3.0->gradio) (1.3.0)\n",
      "Requirement already satisfied: certifi in c:\\users\\kiruthika anbarasan\\anaconda3\\lib\\site-packages (from httpx<1.0,>=0.24.1->gradio) (2024.8.30)\n",
      "Requirement already satisfied: httpcore==1.* in c:\\users\\kiruthika anbarasan\\anaconda3\\lib\\site-packages (from httpx<1.0,>=0.24.1->gradio) (1.0.2)\n",
      "Requirement already satisfied: h11<0.15,>=0.13 in c:\\users\\kiruthika anbarasan\\anaconda3\\lib\\site-packages (from httpcore==1.*->httpx<1.0,>=0.24.1->gradio) (0.14.0)\n",
      "Requirement already satisfied: filelock in c:\\users\\kiruthika anbarasan\\anaconda3\\lib\\site-packages (from huggingface-hub<1.0,>=0.33.5->gradio) (3.13.1)\n",
      "Requirement already satisfied: requests in c:\\users\\kiruthika anbarasan\\anaconda3\\lib\\site-packages (from huggingface-hub<1.0,>=0.33.5->gradio) (2.32.3)\n",
      "Requirement already satisfied: tqdm>=4.42.1 in c:\\users\\kiruthika anbarasan\\anaconda3\\lib\\site-packages (from huggingface-hub<1.0,>=0.33.5->gradio) (4.66.5)\n",
      "Requirement already satisfied: python-dateutil>=2.8.2 in c:\\users\\kiruthika anbarasan\\anaconda3\\lib\\site-packages (from pandas<3.0,>=1.0->gradio) (2.9.0.post0)\n",
      "Requirement already satisfied: pytz>=2020.1 in c:\\users\\kiruthika anbarasan\\anaconda3\\lib\\site-packages (from pandas<3.0,>=1.0->gradio) (2024.1)\n",
      "Requirement already satisfied: tzdata>=2022.7 in c:\\users\\kiruthika anbarasan\\anaconda3\\lib\\site-packages (from pandas<3.0,>=1.0->gradio) (2023.3)\n",
      "Requirement already satisfied: annotated-types>=0.4.0 in c:\\users\\kiruthika anbarasan\\anaconda3\\lib\\site-packages (from pydantic<2.12,>=2.0->gradio) (0.6.0)\n",
      "Requirement already satisfied: pydantic-core==2.20.1 in c:\\users\\kiruthika anbarasan\\anaconda3\\lib\\site-packages (from pydantic<2.12,>=2.0->gradio) (2.20.1)\n",
      "Requirement already satisfied: click>=8.0.0 in c:\\users\\kiruthika anbarasan\\anaconda3\\lib\\site-packages (from typer<1.0,>=0.12->gradio) (8.1.7)\n",
      "Requirement already satisfied: shellingham>=1.3.0 in c:\\users\\kiruthika anbarasan\\anaconda3\\lib\\site-packages (from typer<1.0,>=0.12->gradio) (1.5.4)\n",
      "Requirement already satisfied: rich>=10.11.0 in c:\\users\\kiruthika anbarasan\\anaconda3\\lib\\site-packages (from typer<1.0,>=0.12->gradio) (13.7.1)\n",
      "Requirement already satisfied: colorama in c:\\users\\kiruthika anbarasan\\anaconda3\\lib\\site-packages (from click>=8.0.0->typer<1.0,>=0.12->gradio) (0.4.6)\n",
      "Requirement already satisfied: six>=1.5 in c:\\users\\kiruthika anbarasan\\anaconda3\\lib\\site-packages (from python-dateutil>=2.8.2->pandas<3.0,>=1.0->gradio) (1.16.0)\n",
      "Requirement already satisfied: markdown-it-py>=2.2.0 in c:\\users\\kiruthika anbarasan\\anaconda3\\lib\\site-packages (from rich>=10.11.0->typer<1.0,>=0.12->gradio) (2.2.0)\n",
      "Requirement already satisfied: pygments<3.0.0,>=2.13.0 in c:\\users\\kiruthika anbarasan\\anaconda3\\lib\\site-packages (from rich>=10.11.0->typer<1.0,>=0.12->gradio) (2.15.1)\n",
      "Requirement already satisfied: charset-normalizer<4,>=2 in c:\\users\\kiruthika anbarasan\\anaconda3\\lib\\site-packages (from requests->huggingface-hub<1.0,>=0.33.5->gradio) (3.3.2)\n",
      "Requirement already satisfied: urllib3<3,>=1.21.1 in c:\\users\\kiruthika anbarasan\\anaconda3\\lib\\site-packages (from requests->huggingface-hub<1.0,>=0.33.5->gradio) (2.2.3)\n",
      "Requirement already satisfied: mdurl~=0.1 in c:\\users\\kiruthika anbarasan\\anaconda3\\lib\\site-packages (from markdown-it-py>=2.2.0->rich>=10.11.0->typer<1.0,>=0.12->gradio) (0.1.0)\n"
     ]
    }
   ],
   "source": [
    "!pip install gradio"
   ]
  },
  {
   "cell_type": "code",
   "execution_count": 25,
   "id": "4ced21a2-4ad1-47b0-9207-a47824457156",
   "metadata": {},
   "outputs": [],
   "source": [
    "import gradio as gr\n",
    "board = [\" \" for _ in range(9)]\n",
    "\n",
    "def check_winner(b, player):\n",
    "    winningconditions = [(0,1,2),(3,4,5),(6,7,8),\n",
    "                      (0,3,6),(1,4,7),(2,5,8),\n",
    "                      (0,4,8),(2,4,6)]\n",
    "    return any(b[i] == b[j] == b[k] == player for i, j, k in winningconditions)\n",
    "def ismatchdraw(b):\n",
    "    return all(cell != \" \" for cell in b)"
   ]
  },
  {
   "cell_type": "code",
   "execution_count": 26,
   "id": "204161d7-d664-464d-9ce4-d4d53ebab156",
   "metadata": {},
   "outputs": [],
   "source": [
    "\n",
    "def minimax(b, depth, alpha, beta, is_maximizing):\n",
    "    if check_winner(b, \"0\"):\n",
    "        return 1\n",
    "    if check_winner(b, \"X\"):\n",
    "        return -1\n",
    "    if ismatchdraw(b):\n",
    "        return 0\n",
    "\n",
    "    if is_maximizing:\n",
    "        maximumeval = float('-inf')\n",
    "        for i in range(9):\n",
    "            if b[i] == \" \":\n",
    "                b[i] = \"0\"\n",
    "                eval = minimax(b, depth + 1, alpha, beta, False)\n",
    "                b[i] = \" \"\n",
    "                maximumeval = max(maximumeval, eval)\n",
    "                alpha = max(alpha, eval)\n",
    "                if beta <= alpha:\n",
    "                    break\n",
    "        return maximumeval\n",
    "    else:\n",
    "        minimumeval = float('inf')\n",
    "        for i in range(9):\n",
    "            if b[i] == \" \":\n",
    "                b[i] = \"X\"\n",
    "                eval = minimax(b, depth + 1, alpha, beta, True)\n",
    "                b[i] = \" \"\n",
    "                minimumeval = min(minimumeval, eval)\n",
    "                beta = min(beta, eval)\n",
    "                if beta <= alpha:\n",
    "                    break\n",
    "        return minimumeval\n",
    "\n",
    "#move for ai\n",
    "def best_move(b):\n",
    "    best_value = float('-inf')\n",
    "    move = -1\n",
    "    for i in range(9):\n",
    "        if b[i] == \" \":\n",
    "            b[i] = \"0\"\n",
    "            moving_value = minimax(b, 0, float('-inf'), float('inf'), False)\n",
    "            b[i] = \" \"\n",
    "            if moving_value > best_value:\n",
    "                best_value = moving_value\n",
    "                move = i\n",
    "    return move\n",
    "\n"
   ]
  },
  {
   "cell_type": "code",
   "execution_count": 28,
   "id": "14cb9223-1913-4b59-b46e-96d26b0638ec",
   "metadata": {},
   "outputs": [
    {
     "name": "stdout",
     "output_type": "stream",
     "text": [
      "* Running on local URL:  http://127.0.0.1:7868\n",
      "\n",
      "Could not create share link. Please check your internet connection or our status page: https://status.gradio.app.\n"
     ]
    },
    {
     "data": {
      "text/html": [
       "<div><iframe src=\"http://127.0.0.1:7868/\" width=\"100%\" height=\"500\" allow=\"autoplay; camera; microphone; clipboard-read; clipboard-write;\" frameborder=\"0\" allowfullscreen></iframe></div>"
      ],
      "text/plain": [
       "<IPython.core.display.HTML object>"
      ]
     },
     "metadata": {},
     "output_type": "display_data"
    },
    {
     "data": {
      "text/plain": []
     },
     "execution_count": 28,
     "metadata": {},
     "output_type": "execute_result"
    }
   ],
   "source": [
    "def play(cell):\n",
    "    global board\n",
    "    if board[cell] != \" \":\n",
    "        return board.copy(), \"**Move is invalid. Try a different cell!**\", *[gr.update(value=board[i], interactive=(board[i] == \" \")) for i in range(9)]\n",
    "    \n",
    "    #player move\n",
    "    board[cell] = \"X\"\n",
    "    if check_winner(board, \"X\"):\n",
    "        temp = board.copy()\n",
    "        board = [\" \" for _ in range(9)]\n",
    "        return temp, \"Congrats!! You won the match!!\", *[gr.update(value=temp[i], interactive=False) for i in range(9)]\n",
    "    \n",
    "    if ismatchdraw(board):\n",
    "        temp = board.copy()\n",
    "        board = [\" \" for _ in range(9)]\n",
    "        return temp, \"Match draw!!!\", *[gr.update(value=temp[i], interactive=False) for i in range(9)]\n",
    "    \n",
    "#AI move\n",
    "    ai = best_move(board)\n",
    "    if ai != -1:\n",
    "        board[ai] = \"0\"\n",
    "    \n",
    "    if check_winner(board, \"0\"):\n",
    "        temp = board.copy()\n",
    "        board = [\" \" for _ in range(9)]\n",
    "        return temp, \"AI wins the match!!\", *[gr.update(value=temp[i], interactive=False) for i in range(9)]\n",
    "    \n",
    "    if ismatchdraw(board):\n",
    "        temp = board.copy()\n",
    "        board = [\" \" for _ in range(9)]\n",
    "        return temp, \"Match Draw!!\", *[gr.update(value=temp[i], interactive=False) for i in range(9)]\n",
    "    \n",
    "    return board.copy(), \"Your move!\", *[gr.update(value=board[i], interactive=(board[i] == \" \")) for i in range(9)]\n",
    "\n",
    "def reset_game():\n",
    "    global board\n",
    "    board = [\" \" for _ in range(9)]\n",
    "    return board.copy(), \"Game reset. Start your move!!\", *[gr.update(value=\" \", interactive=True) for _ in range(9)]\n",
    "\n",
    "css = \"\"\"\n",
    ".cell-button {\n",
    "  height: 80px;\n",
    "  width: 80px;\n",
    "  font-size: 32px;\n",
    "  margin: 5px;\n",
    "}\n",
    "\"\"\"\n",
    "\n",
    "with gr.Blocks(css=css) as mytictactoeapp:\n",
    "    gr.Markdown(\"<h1 style='text-align: center;'>Tic-Tac-Toe AI</h1>\")\n",
    "    gr.Markdown(\"<h1 style='text-align: center;'>Play against an **Unbeatable AI** using Minimax + Alpha-Beta Pruning</h1>\")\n",
    "\n",
    "    state = gr.State(value=board.copy())\n",
    "    status = gr.Textbox(value=\"Your move!\", label=\"Status\", interactive=False)\n",
    "    \n",
    "    button_list = []  \n",
    "    with gr.Column():\n",
    "        for row in range(3):\n",
    "            with gr.Row():\n",
    "                for col in range(3):\n",
    "                    idx = row * 3 + col\n",
    "                    btn = gr.Button(value=\" \", elem_classes=[\"cell-button\"])\n",
    "                    button_list.append(btn)\n",
    "    for i in range(9):\n",
    "        button_list[i].click(\n",
    "            fn=lambda i=i: play(i),\n",
    "            inputs=[], \n",
    "            outputs=[state, status] + button_list\n",
    "        )\n",
    "    \n",
    "    gr.Button(\"Reset Game\").click(\n",
    "        fn=reset_game,\n",
    "        inputs=[],\n",
    "        outputs=[state, status] + button_list\n",
    "    )\n",
    "\n",
    "mytictactoeapp.launch(share=True)\n"
   ]
  },
  {
   "cell_type": "code",
   "execution_count": null,
   "id": "ee1361ac-e8a1-420b-8dcc-910f755a126f",
   "metadata": {},
   "outputs": [],
   "source": []
  },
  {
   "cell_type": "code",
   "execution_count": null,
   "id": "410e2356-dd2b-41f8-a89b-a84196a956c6",
   "metadata": {},
   "outputs": [],
   "source": []
  }
 ],
 "metadata": {
  "kernelspec": {
   "display_name": "Python 3 (ipykernel)",
   "language": "python",
   "name": "python3"
  },
  "language_info": {
   "codemirror_mode": {
    "name": "ipython",
    "version": 3
   },
   "file_extension": ".py",
   "mimetype": "text/x-python",
   "name": "python",
   "nbconvert_exporter": "python",
   "pygments_lexer": "ipython3",
   "version": "3.12.7"
  }
 },
 "nbformat": 4,
 "nbformat_minor": 5
}
